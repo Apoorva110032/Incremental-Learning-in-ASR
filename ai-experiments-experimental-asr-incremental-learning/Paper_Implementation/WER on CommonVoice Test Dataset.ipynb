{
 "cells": [
  {
   "cell_type": "code",
   "execution_count": null,
   "id": "845a8a6d",
   "metadata": {},
   "outputs": [],
   "source": [
    "!pip install nemo_toolkit[\"all\"]==1.9.0\n",
    "from nemo.collections.asr.models.ctc_bpe_models import EncDecCTCModelBPE"
   ]
  },
  {
   "cell_type": "code",
   "execution_count": null,
   "id": "3d4faec3",
   "metadata": {},
   "outputs": [],
   "source": [
    "import os\n",
    "import json\n",
    "import jiwer\n",
    "import evaluate\n",
    "from evaluate import load"
   ]
  },
  {
   "cell_type": "markdown",
   "id": "ce633c6d",
   "metadata": {},
   "source": [
    "Creating List of Paths"
   ]
  },
  {
   "cell_type": "code",
   "execution_count": null,
   "id": "3e5d771e",
   "metadata": {},
   "outputs": [],
   "source": [
    "os.chdir('/home/DATA2/apoorvaaggarwal/datasets/CV_EN_Test')\n",
    "directory = 'wav'\n",
    "manifest_dir_url = '/home/DATA2/apoorvaaggarwal/datasets/CV_EN_Test/wav'\n",
    "new_list_of_paths = []\n",
    "\n",
    "for filename in os.listdir(directory):\n",
    "    new_list_of_paths.append(f\"{manifest_dir_url}/{filename}\")\n",
    "print(new_list_of_paths)"
   ]
  },
  {
   "cell_type": "code",
   "execution_count": null,
   "id": "0e5a6114",
   "metadata": {},
   "outputs": [],
   "source": [
    "os.chdir('/home/DATA2/apoorvaaggarwal/manifests')\n",
    "file_to_write = '/home/DATA2/apoorvaaggarwal/manifests/commonvoice_test_manifest.json'"
   ]
  },
  {
   "cell_type": "markdown",
   "id": "5b0defc4",
   "metadata": {},
   "source": [
    "Getting all the Data from already made manifest file to update the file paths"
   ]
  },
  {
   "cell_type": "code",
   "execution_count": null,
   "id": "28f80d16",
   "metadata": {},
   "outputs": [],
   "source": [
    "write_objs = []\n",
    "for line in open(file_to_write, 'r'):\n",
    "    write_objs.append(json.loads(line))"
   ]
  },
  {
   "cell_type": "code",
   "execution_count": null,
   "id": "f7a52dc1",
   "metadata": {},
   "outputs": [],
   "source": [
    "print(len(write_objs))\n",
    "print(len(new_list_of_paths))"
   ]
  },
  {
   "cell_type": "markdown",
   "id": "b1251af3",
   "metadata": {},
   "source": [
    "Updating File Paths"
   ]
  },
  {
   "cell_type": "code",
   "execution_count": null,
   "id": "8501aa2b",
   "metadata": {},
   "outputs": [],
   "source": [
    "for i in range(len(write_objs)):\n",
    "      write_objs[i][\"audio_filepath\"] = new_list_of_paths[i]"
   ]
  },
  {
   "cell_type": "markdown",
   "id": "21402b6a",
   "metadata": {},
   "source": [
    "Checking if the file paths got updated"
   ]
  },
  {
   "cell_type": "code",
   "execution_count": null,
   "id": "b9c26d1c",
   "metadata": {},
   "outputs": [],
   "source": [
    "print(write_objs[i][\"audio_filepath\"])"
   ]
  },
  {
   "cell_type": "markdown",
   "id": "fc36643d",
   "metadata": {},
   "source": [
    "Writing updated objects to update manifest file"
   ]
  },
  {
   "cell_type": "code",
   "execution_count": null,
   "id": "5bacf529",
   "metadata": {},
   "outputs": [],
   "source": [
    "with open(file_to_write, 'w') as json_file:\n",
    "    for _dict in write_objs:\n",
    "        json_file.write(json.dumps(_dict))\n",
    "        json_file.write(\"\\n\")"
   ]
  },
  {
   "cell_type": "markdown",
   "id": "14c622ca",
   "metadata": {},
   "source": [
    "Creating list of paths & ground truths"
   ]
  },
  {
   "cell_type": "code",
   "execution_count": null,
   "id": "0bfd76b1",
   "metadata": {},
   "outputs": [],
   "source": [
    "os.chdir('/home/DATA2/apoorvaaggarwal/manifests')\n",
    "file_to_read = '/home/DATA2/apoorvaaggarwal/manifests/commonvoice_test_manifest.json'"
   ]
  },
  {
   "cell_type": "code",
   "execution_count": null,
   "id": "36fe986d",
   "metadata": {},
   "outputs": [],
   "source": [
    "read_objs = []\n",
    "for line in open(file_to_read, 'r'):\n",
    "    print(line)"
   ]
  },
  {
   "cell_type": "code",
   "execution_count": null,
   "id": "368265e3",
   "metadata": {},
   "outputs": [],
   "source": [
    "read_objs = []\n",
    "list_of_actual_statements = []\n",
    "paths = []"
   ]
  },
  {
   "cell_type": "code",
   "execution_count": null,
   "id": "9914e34e",
   "metadata": {},
   "outputs": [],
   "source": [
    "for line in open(file_to_read, 'r'):\n",
    "    read_objs.append(json.loads(line))\n",
    "\n",
    "for obj in read_objs:\n",
    "    print(obj)"
   ]
  },
  {
   "cell_type": "code",
   "execution_count": null,
   "id": "378baefd",
   "metadata": {},
   "outputs": [],
   "source": [
    "for obj in read_objs:\n",
    "    paths.append(obj[\"audio_filepath\"])\n",
    "    list_of_actual_statements.append(obj[\"text\"])"
   ]
  },
  {
   "cell_type": "code",
   "execution_count": null,
   "id": "a8b29053",
   "metadata": {},
   "outputs": [],
   "source": [
    "print(paths)"
   ]
  },
  {
   "cell_type": "code",
   "execution_count": null,
   "id": "5b2a89ff",
   "metadata": {},
   "outputs": [],
   "source": [
    "print(len(paths))\n",
    "print(len(list_of_actual_statements))"
   ]
  },
  {
   "cell_type": "code",
   "execution_count": null,
   "id": "b14ff520",
   "metadata": {},
   "outputs": [],
   "source": [
    "wer = load(\"wer\")"
   ]
  },
  {
   "cell_type": "markdown",
   "id": "d9c39005",
   "metadata": {},
   "source": [
    "Initialising Incremental Model"
   ]
  },
  {
   "cell_type": "code",
   "execution_count": null,
   "id": "a73298bb",
   "metadata": {},
   "outputs": [],
   "source": [
    "os.environ[\"CUDA_VISIBLE_DEVICES\"] = '4'"
   ]
  },
  {
   "cell_type": "code",
   "execution_count": null,
   "id": "781cfc89",
   "metadata": {},
   "outputs": [],
   "source": [
    "incremental_model = EncDecCTCModelBPE.restore_from(\"/home/DATA2/apoorvaaggarwal/training/exp_2/student_model.nemo\")\n",
    "\n"
   ]
  },
  {
   "cell_type": "markdown",
   "id": "9d59c6dc",
   "metadata": {},
   "source": [
    "Getting Predictions using Incremental Model"
   ]
  },
  {
   "cell_type": "code",
   "execution_count": null,
   "id": "908b474b",
   "metadata": {},
   "outputs": [],
   "source": [
    "predictions = incremental_model.transcribe(paths2audio_files=paths)"
   ]
  },
  {
   "cell_type": "markdown",
   "id": "8eb16eb5",
   "metadata": {},
   "source": [
    "Removing WhiteSpace Characters"
   ]
  },
  {
   "cell_type": "code",
   "execution_count": null,
   "id": "cf872571",
   "metadata": {},
   "outputs": [],
   "source": [
    "print(len(paths))\n",
    "print(len(list_of_actual_statements))\n",
    "print(len(predictions))"
   ]
  },
  {
   "cell_type": "code",
   "execution_count": null,
   "id": "18e27ad3",
   "metadata": {},
   "outputs": [],
   "source": [
    "for pred in predictions:\n",
    "    "
   ]
  },
  {
   "cell_type": "code",
   "execution_count": null,
   "id": "3a63400b",
   "metadata": {},
   "outputs": [],
   "source": [
    "statements_without_spaces = jiwer.RemoveEmptyStrings()(list_of_actual_statements)\n",
    "predictions_without_spaces = jiwer.RemoveEmptyStrings()(predictions)"
   ]
  },
  {
   "cell_type": "code",
   "execution_count": null,
   "id": "648eefde",
   "metadata": {},
   "outputs": [],
   "source": [
    "print(len(paths))\n",
    "print(len(list_of_actual_statements))\n",
    "print(len(predictions))"
   ]
  },
  {
   "cell_type": "markdown",
   "id": "bf4b4016",
   "metadata": {},
   "source": [
    "WER using Incremental model on CommonVoice English Dataset"
   ]
  },
  {
   "cell_type": "code",
   "execution_count": null,
   "id": "fac5e5a1",
   "metadata": {},
   "outputs": [],
   "source": [
    "wer_score = jiwer.wer(list_of_actual_statements, predictions)\n",
    "print(wer_score)"
   ]
  },
  {
   "cell_type": "code",
   "execution_count": null,
   "id": "d24d40e1",
   "metadata": {},
   "outputs": [],
   "source": [
    "wer_score = jiwer.wer(statements_without_spaces, predictions_without_spaces)\n",
    "print(wer_score)"
   ]
  },
  {
   "cell_type": "code",
   "execution_count": null,
   "id": "aab40ccb",
   "metadata": {},
   "outputs": [],
   "source": [
    "print(incremental_model.decoder.vocabulary)"
   ]
  }
 ],
 "metadata": {
  "kernelspec": {
   "display_name": "Python 3",
   "language": "python",
   "name": "python3"
  },
  "language_info": {
   "codemirror_mode": {
    "name": "ipython",
    "version": 3
   },
   "file_extension": ".py",
   "mimetype": "text/x-python",
   "name": "python",
   "nbconvert_exporter": "python",
   "pygments_lexer": "ipython3",
   "version": "3.8.10"
  }
 },
 "nbformat": 4,
 "nbformat_minor": 5
}
